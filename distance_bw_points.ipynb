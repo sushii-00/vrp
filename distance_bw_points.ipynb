{
 "cells": [
  {
   "cell_type": "code",
   "execution_count": 1,
   "id": "8403667b",
   "metadata": {},
   "outputs": [
    {
     "data": {
      "text/html": [
       "<div>\n",
       "<style scoped>\n",
       "    .dataframe tbody tr th:only-of-type {\n",
       "        vertical-align: middle;\n",
       "    }\n",
       "\n",
       "    .dataframe tbody tr th {\n",
       "        vertical-align: top;\n",
       "    }\n",
       "\n",
       "    .dataframe thead th {\n",
       "        text-align: right;\n",
       "    }\n",
       "</style>\n",
       "<table border=\"1\" class=\"dataframe\">\n",
       "  <thead>\n",
       "    <tr style=\"text-align: right;\">\n",
       "      <th></th>\n",
       "      <th>CUST NO.</th>\n",
       "      <th>XCOORD.</th>\n",
       "      <th>YCOORD.</th>\n",
       "      <th>READY TIME</th>\n",
       "      <th>DUE DATE</th>\n",
       "      <th>SERVICE TIME</th>\n",
       "    </tr>\n",
       "  </thead>\n",
       "  <tbody>\n",
       "    <tr>\n",
       "      <th>0</th>\n",
       "      <td>0.0</td>\n",
       "      <td>35.0</td>\n",
       "      <td>35.0</td>\n",
       "      <td>0.0</td>\n",
       "      <td>1000.0</td>\n",
       "      <td>0.0</td>\n",
       "    </tr>\n",
       "    <tr>\n",
       "      <th>1</th>\n",
       "      <td>1.0</td>\n",
       "      <td>41.0</td>\n",
       "      <td>49.0</td>\n",
       "      <td>707.0</td>\n",
       "      <td>848.0</td>\n",
       "      <td>10.0</td>\n",
       "    </tr>\n",
       "    <tr>\n",
       "      <th>2</th>\n",
       "      <td>2.0</td>\n",
       "      <td>35.0</td>\n",
       "      <td>17.0</td>\n",
       "      <td>143.0</td>\n",
       "      <td>282.0</td>\n",
       "      <td>10.0</td>\n",
       "    </tr>\n",
       "    <tr>\n",
       "      <th>3</th>\n",
       "      <td>3.0</td>\n",
       "      <td>55.0</td>\n",
       "      <td>45.0</td>\n",
       "      <td>527.0</td>\n",
       "      <td>584.0</td>\n",
       "      <td>10.0</td>\n",
       "    </tr>\n",
       "    <tr>\n",
       "      <th>4</th>\n",
       "      <td>4.0</td>\n",
       "      <td>55.0</td>\n",
       "      <td>20.0</td>\n",
       "      <td>678.0</td>\n",
       "      <td>801.0</td>\n",
       "      <td>10.0</td>\n",
       "    </tr>\n",
       "    <tr>\n",
       "      <th>...</th>\n",
       "      <td>...</td>\n",
       "      <td>...</td>\n",
       "      <td>...</td>\n",
       "      <td>...</td>\n",
       "      <td>...</td>\n",
       "      <td>...</td>\n",
       "    </tr>\n",
       "    <tr>\n",
       "      <th>96</th>\n",
       "      <td>96.0</td>\n",
       "      <td>22.0</td>\n",
       "      <td>27.0</td>\n",
       "      <td>607.0</td>\n",
       "      <td>690.0</td>\n",
       "      <td>10.0</td>\n",
       "    </tr>\n",
       "    <tr>\n",
       "      <th>97</th>\n",
       "      <td>97.0</td>\n",
       "      <td>25.0</td>\n",
       "      <td>21.0</td>\n",
       "      <td>612.0</td>\n",
       "      <td>673.0</td>\n",
       "      <td>10.0</td>\n",
       "    </tr>\n",
       "    <tr>\n",
       "      <th>98</th>\n",
       "      <td>98.0</td>\n",
       "      <td>19.0</td>\n",
       "      <td>21.0</td>\n",
       "      <td>183.0</td>\n",
       "      <td>306.0</td>\n",
       "      <td>10.0</td>\n",
       "    </tr>\n",
       "    <tr>\n",
       "      <th>99</th>\n",
       "      <td>99.0</td>\n",
       "      <td>20.0</td>\n",
       "      <td>26.0</td>\n",
       "      <td>333.0</td>\n",
       "      <td>432.0</td>\n",
       "      <td>10.0</td>\n",
       "    </tr>\n",
       "    <tr>\n",
       "      <th>100</th>\n",
       "      <td>100.0</td>\n",
       "      <td>18.0</td>\n",
       "      <td>18.0</td>\n",
       "      <td>798.0</td>\n",
       "      <td>965.0</td>\n",
       "      <td>10.0</td>\n",
       "    </tr>\n",
       "  </tbody>\n",
       "</table>\n",
       "<p>101 rows × 6 columns</p>\n",
       "</div>"
      ],
      "text/plain": [
       "     CUST NO.  XCOORD.  YCOORD.  READY TIME  DUE DATE  SERVICE TIME\n",
       "0         0.0     35.0     35.0         0.0    1000.0           0.0\n",
       "1         1.0     41.0     49.0       707.0     848.0          10.0\n",
       "2         2.0     35.0     17.0       143.0     282.0          10.0\n",
       "3         3.0     55.0     45.0       527.0     584.0          10.0\n",
       "4         4.0     55.0     20.0       678.0     801.0          10.0\n",
       "..        ...      ...      ...         ...       ...           ...\n",
       "96       96.0     22.0     27.0       607.0     690.0          10.0\n",
       "97       97.0     25.0     21.0       612.0     673.0          10.0\n",
       "98       98.0     19.0     21.0       183.0     306.0          10.0\n",
       "99       99.0     20.0     26.0       333.0     432.0          10.0\n",
       "100     100.0     18.0     18.0       798.0     965.0          10.0\n",
       "\n",
       "[101 rows x 6 columns]"
      ]
     },
     "execution_count": 1,
     "metadata": {},
     "output_type": "execute_result"
    }
   ],
   "source": [
    "import pandas as pd\n",
    "df = pd.read_csv('data_fin.csv')\n",
    "df.drop(['Unnamed: 0'], axis=1, inplace=True)\n",
    "# data = df.drop(['DEMAND'], axis = 1)\n",
    "df"
   ]
  },
  {
   "cell_type": "code",
   "execution_count": 2,
   "id": "6d5ac535",
   "metadata": {},
   "outputs": [],
   "source": [
    "# data.to_csv('data_fin.csv')"
   ]
  },
  {
   "cell_type": "code",
   "execution_count": 3,
   "id": "a7bb8c5d",
   "metadata": {},
   "outputs": [
    {
     "data": {
      "text/html": [
       "<div>\n",
       "<style scoped>\n",
       "    .dataframe tbody tr th:only-of-type {\n",
       "        vertical-align: middle;\n",
       "    }\n",
       "\n",
       "    .dataframe tbody tr th {\n",
       "        vertical-align: top;\n",
       "    }\n",
       "\n",
       "    .dataframe thead th {\n",
       "        text-align: right;\n",
       "    }\n",
       "</style>\n",
       "<table border=\"1\" class=\"dataframe\">\n",
       "  <thead>\n",
       "    <tr style=\"text-align: right;\">\n",
       "      <th></th>\n",
       "      <th>CUST NO.</th>\n",
       "      <th>XCOORD.</th>\n",
       "      <th>YCOORD.</th>\n",
       "      <th>READY TIME</th>\n",
       "      <th>DUE DATE</th>\n",
       "      <th>SERVICE TIME</th>\n",
       "    </tr>\n",
       "  </thead>\n",
       "  <tbody>\n",
       "    <tr>\n",
       "      <th>count</th>\n",
       "      <td>101.000000</td>\n",
       "      <td>101.000000</td>\n",
       "      <td>101.000000</td>\n",
       "      <td>101.000000</td>\n",
       "      <td>101.000000</td>\n",
       "      <td>101.000000</td>\n",
       "    </tr>\n",
       "    <tr>\n",
       "      <th>mean</th>\n",
       "      <td>50.000000</td>\n",
       "      <td>33.712871</td>\n",
       "      <td>35.910891</td>\n",
       "      <td>387.336634</td>\n",
       "      <td>512.049505</td>\n",
       "      <td>9.900990</td>\n",
       "    </tr>\n",
       "    <tr>\n",
       "      <th>std</th>\n",
       "      <td>29.300171</td>\n",
       "      <td>18.273115</td>\n",
       "      <td>19.388192</td>\n",
       "      <td>246.575801</td>\n",
       "      <td>241.863159</td>\n",
       "      <td>0.995037</td>\n",
       "    </tr>\n",
       "    <tr>\n",
       "      <th>min</th>\n",
       "      <td>0.000000</td>\n",
       "      <td>2.000000</td>\n",
       "      <td>3.000000</td>\n",
       "      <td>0.000000</td>\n",
       "      <td>172.000000</td>\n",
       "      <td>0.000000</td>\n",
       "    </tr>\n",
       "    <tr>\n",
       "      <th>25%</th>\n",
       "      <td>25.000000</td>\n",
       "      <td>19.000000</td>\n",
       "      <td>20.000000</td>\n",
       "      <td>183.000000</td>\n",
       "      <td>313.000000</td>\n",
       "      <td>10.000000</td>\n",
       "    </tr>\n",
       "    <tr>\n",
       "      <th>50%</th>\n",
       "      <td>50.000000</td>\n",
       "      <td>31.000000</td>\n",
       "      <td>35.000000</td>\n",
       "      <td>384.000000</td>\n",
       "      <td>461.000000</td>\n",
       "      <td>10.000000</td>\n",
       "    </tr>\n",
       "    <tr>\n",
       "      <th>75%</th>\n",
       "      <td>75.000000</td>\n",
       "      <td>49.000000</td>\n",
       "      <td>52.000000</td>\n",
       "      <td>606.000000</td>\n",
       "      <td>693.000000</td>\n",
       "      <td>10.000000</td>\n",
       "    </tr>\n",
       "    <tr>\n",
       "      <th>max</th>\n",
       "      <td>100.000000</td>\n",
       "      <td>67.000000</td>\n",
       "      <td>77.000000</td>\n",
       "      <td>849.000000</td>\n",
       "      <td>1000.000000</td>\n",
       "      <td>10.000000</td>\n",
       "    </tr>\n",
       "  </tbody>\n",
       "</table>\n",
       "</div>"
      ],
      "text/plain": [
       "         CUST NO.     XCOORD.     YCOORD.  READY TIME     DUE DATE  \\\n",
       "count  101.000000  101.000000  101.000000  101.000000   101.000000   \n",
       "mean    50.000000   33.712871   35.910891  387.336634   512.049505   \n",
       "std     29.300171   18.273115   19.388192  246.575801   241.863159   \n",
       "min      0.000000    2.000000    3.000000    0.000000   172.000000   \n",
       "25%     25.000000   19.000000   20.000000  183.000000   313.000000   \n",
       "50%     50.000000   31.000000   35.000000  384.000000   461.000000   \n",
       "75%     75.000000   49.000000   52.000000  606.000000   693.000000   \n",
       "max    100.000000   67.000000   77.000000  849.000000  1000.000000   \n",
       "\n",
       "       SERVICE TIME  \n",
       "count    101.000000  \n",
       "mean       9.900990  \n",
       "std        0.995037  \n",
       "min        0.000000  \n",
       "25%       10.000000  \n",
       "50%       10.000000  \n",
       "75%       10.000000  \n",
       "max       10.000000  "
      ]
     },
     "execution_count": 3,
     "metadata": {},
     "output_type": "execute_result"
    }
   ],
   "source": [
    "df.describe()"
   ]
  },
  {
   "cell_type": "code",
   "execution_count": 4,
   "id": "bb58ace6",
   "metadata": {},
   "outputs": [
    {
     "name": "stdout",
     "output_type": "stream",
     "text": [
      "    CUST NO.  XCOORD.  YCOORD.  READY TIME  DUE DATE  SERVICE TIME\n",
      "46      46.0      2.0     48.0       515.0     628.0          10.0\n",
      "36      36.0      2.0     60.0        41.0     208.0          10.0\n",
      "86      86.0      4.0     18.0       388.0     465.0          10.0\n",
      "38      38.0      5.0      5.0       302.0     405.0          10.0\n",
      "17      17.0      5.0     30.0       733.0     870.0          10.0\n",
      "..       ...      ...      ...         ...       ...           ...\n",
      "29      29.0     64.0     42.0       190.0     313.0          10.0\n",
      "25      25.0     65.0     20.0       817.0     956.0          10.0\n",
      "24      24.0     65.0     35.0       704.0     847.0          10.0\n",
      "34      34.0     65.0     55.0       529.0     614.0          10.0\n",
      "67      67.0     67.0      5.0       294.0     401.0          10.0\n",
      "\n",
      "[101 rows x 6 columns]\n"
     ]
    }
   ],
   "source": [
    "print(df.sort_values('XCOORD.'))"
   ]
  },
  {
   "cell_type": "code",
   "execution_count": 5,
   "id": "82c39244",
   "metadata": {},
   "outputs": [
    {
     "name": "stdout",
     "output_type": "stream",
     "text": [
      "    CUST NO.  XCOORD.  YCOORD.  READY TIME  DUE DATE  SERVICE TIME\n",
      "43      43.0     23.0      3.0       620.0     705.0          10.0\n",
      "67      67.0     67.0      5.0       294.0     401.0          10.0\n",
      "15      15.0     30.0      5.0       175.0     300.0          10.0\n",
      "23      23.0     55.0      5.0       206.0     325.0          10.0\n",
      "38      38.0      5.0      5.0       302.0     405.0          10.0\n",
      "..       ...      ...      ...         ...       ...           ...\n",
      "63      63.0     27.0     69.0        34.0     191.0          10.0\n",
      "32      32.0     35.0     69.0       660.0     777.0          10.0\n",
      "66      66.0     49.0     73.0       592.0     693.0          10.0\n",
      "65      65.0     62.0     77.0        49.0     188.0          10.0\n",
      "64      64.0     15.0     77.0       214.0     333.0          10.0\n",
      "\n",
      "[101 rows x 6 columns]\n"
     ]
    }
   ],
   "source": [
    "print(df.sort_values('YCOORD.'))"
   ]
  },
  {
   "cell_type": "code",
   "execution_count": 6,
   "id": "1226a729",
   "metadata": {},
   "outputs": [
    {
     "name": "stdout",
     "output_type": "stream",
     "text": [
      "[35. 41. 55. 15. 25. 20. 10. 30. 50.  5. 45. 65. 64. 40. 31. 53. 63.  2.\n",
      " 60. 42. 24. 23. 11.  6.  8. 13. 47. 49. 27. 37. 57. 32. 36. 21. 17. 12.\n",
      " 62. 67. 56. 44. 46. 61. 14. 16.  4. 28. 26. 22. 18. 19.]\n"
     ]
    }
   ],
   "source": [
    "print(df['XCOORD.'].unique())"
   ]
  },
  {
   "cell_type": "code",
   "execution_count": 7,
   "id": "542d7c82",
   "metadata": {},
   "outputs": [
    {
     "name": "stdout",
     "output_type": "stream",
     "text": [
      "[35. 49. 17. 45. 20. 30. 50. 43. 60. 65. 25. 10.  5. 40. 37. 42. 52. 69.\n",
      " 55. 12.  7.  3. 14. 38. 48. 56. 68. 47. 58. 31. 29. 23. 26. 24. 34. 77.\n",
      " 73. 39. 16. 13. 11. 54. 22. 18. 67. 19. 27. 21.]\n"
     ]
    }
   ],
   "source": [
    "print(df['YCOORD.'].unique())"
   ]
  },
  {
   "cell_type": "code",
   "execution_count": 8,
   "id": "ea9dcbd6",
   "metadata": {},
   "outputs": [],
   "source": [
    "l1 = list() # 100 elemnts : 100 points\n",
    "# 2 elements coordinates\n",
    "x = df['XCOORD.']\n",
    "y = df['YCOORD.']\n",
    "\n",
    "for i in range(len(x)):\n",
    "    l2 = list() \n",
    "    l2.append(x[i])\n",
    "    l2.append(y[i])\n",
    "    l1.append(l2)"
   ]
  },
  {
   "cell_type": "code",
   "execution_count": 9,
   "id": "0a548044",
   "metadata": {},
   "outputs": [
    {
     "data": {
      "text/plain": [
       "[[35.0, 35.0],\n",
       " [41.0, 49.0],\n",
       " [35.0, 17.0],\n",
       " [55.0, 45.0],\n",
       " [55.0, 20.0],\n",
       " [15.0, 30.0],\n",
       " [25.0, 30.0],\n",
       " [20.0, 50.0],\n",
       " [10.0, 43.0],\n",
       " [55.0, 60.0],\n",
       " [30.0, 60.0],\n",
       " [20.0, 65.0],\n",
       " [50.0, 35.0],\n",
       " [30.0, 25.0],\n",
       " [15.0, 10.0],\n",
       " [30.0, 5.0],\n",
       " [10.0, 20.0],\n",
       " [5.0, 30.0],\n",
       " [20.0, 40.0],\n",
       " [15.0, 60.0],\n",
       " [45.0, 65.0],\n",
       " [45.0, 20.0],\n",
       " [45.0, 10.0],\n",
       " [55.0, 5.0],\n",
       " [65.0, 35.0],\n",
       " [65.0, 20.0],\n",
       " [45.0, 30.0],\n",
       " [35.0, 40.0],\n",
       " [41.0, 37.0],\n",
       " [64.0, 42.0],\n",
       " [40.0, 60.0],\n",
       " [31.0, 52.0],\n",
       " [35.0, 69.0],\n",
       " [53.0, 52.0],\n",
       " [65.0, 55.0],\n",
       " [63.0, 65.0],\n",
       " [2.0, 60.0],\n",
       " [20.0, 20.0],\n",
       " [5.0, 5.0],\n",
       " [60.0, 12.0],\n",
       " [40.0, 25.0],\n",
       " [42.0, 7.0],\n",
       " [24.0, 12.0],\n",
       " [23.0, 3.0],\n",
       " [11.0, 14.0],\n",
       " [6.0, 38.0],\n",
       " [2.0, 48.0],\n",
       " [8.0, 56.0],\n",
       " [13.0, 52.0],\n",
       " [6.0, 68.0],\n",
       " [47.0, 47.0],\n",
       " [49.0, 58.0],\n",
       " [27.0, 43.0],\n",
       " [37.0, 31.0],\n",
       " [57.0, 29.0],\n",
       " [63.0, 23.0],\n",
       " [53.0, 12.0],\n",
       " [32.0, 12.0],\n",
       " [36.0, 26.0],\n",
       " [21.0, 24.0],\n",
       " [17.0, 34.0],\n",
       " [12.0, 24.0],\n",
       " [24.0, 58.0],\n",
       " [27.0, 69.0],\n",
       " [15.0, 77.0],\n",
       " [62.0, 77.0],\n",
       " [49.0, 73.0],\n",
       " [67.0, 5.0],\n",
       " [56.0, 39.0],\n",
       " [37.0, 47.0],\n",
       " [37.0, 56.0],\n",
       " [57.0, 68.0],\n",
       " [47.0, 16.0],\n",
       " [44.0, 17.0],\n",
       " [46.0, 13.0],\n",
       " [49.0, 11.0],\n",
       " [49.0, 42.0],\n",
       " [53.0, 43.0],\n",
       " [61.0, 52.0],\n",
       " [57.0, 48.0],\n",
       " [56.0, 37.0],\n",
       " [55.0, 54.0],\n",
       " [15.0, 47.0],\n",
       " [14.0, 37.0],\n",
       " [11.0, 31.0],\n",
       " [16.0, 22.0],\n",
       " [4.0, 18.0],\n",
       " [28.0, 18.0],\n",
       " [26.0, 52.0],\n",
       " [26.0, 35.0],\n",
       " [31.0, 67.0],\n",
       " [15.0, 19.0],\n",
       " [22.0, 22.0],\n",
       " [18.0, 24.0],\n",
       " [26.0, 27.0],\n",
       " [25.0, 24.0],\n",
       " [22.0, 27.0],\n",
       " [25.0, 21.0],\n",
       " [19.0, 21.0],\n",
       " [20.0, 26.0],\n",
       " [18.0, 18.0]]"
      ]
     },
     "execution_count": 9,
     "metadata": {},
     "output_type": "execute_result"
    }
   ],
   "source": [
    "l1"
   ]
  },
  {
   "cell_type": "code",
   "execution_count": 10,
   "id": "4d09858a",
   "metadata": {},
   "outputs": [],
   "source": [
    "l3 = []\n",
    "for i in range(len(l1)):\n",
    "    l4 = []\n",
    "    for j in range(len(l1)):\n",
    "        l4.append(abs(l1[i][0]-l1[j][0])+abs(l1[i][1]-l1[j][1]))\n",
    "    l3.append(l4)"
   ]
  },
  {
   "cell_type": "code",
   "execution_count": 11,
   "id": "cdd64e46",
   "metadata": {},
   "outputs": [
    {
     "data": {
      "text/html": [
       "<div>\n",
       "<style scoped>\n",
       "    .dataframe tbody tr th:only-of-type {\n",
       "        vertical-align: middle;\n",
       "    }\n",
       "\n",
       "    .dataframe tbody tr th {\n",
       "        vertical-align: top;\n",
       "    }\n",
       "\n",
       "    .dataframe thead th {\n",
       "        text-align: right;\n",
       "    }\n",
       "</style>\n",
       "<table border=\"1\" class=\"dataframe\">\n",
       "  <thead>\n",
       "    <tr style=\"text-align: right;\">\n",
       "      <th></th>\n",
       "      <th>0</th>\n",
       "      <th>1</th>\n",
       "    </tr>\n",
       "  </thead>\n",
       "  <tbody>\n",
       "    <tr>\n",
       "      <th>0</th>\n",
       "      <td>35.0</td>\n",
       "      <td>35.0</td>\n",
       "    </tr>\n",
       "    <tr>\n",
       "      <th>1</th>\n",
       "      <td>41.0</td>\n",
       "      <td>49.0</td>\n",
       "    </tr>\n",
       "    <tr>\n",
       "      <th>2</th>\n",
       "      <td>35.0</td>\n",
       "      <td>17.0</td>\n",
       "    </tr>\n",
       "    <tr>\n",
       "      <th>3</th>\n",
       "      <td>55.0</td>\n",
       "      <td>45.0</td>\n",
       "    </tr>\n",
       "    <tr>\n",
       "      <th>4</th>\n",
       "      <td>55.0</td>\n",
       "      <td>20.0</td>\n",
       "    </tr>\n",
       "    <tr>\n",
       "      <th>...</th>\n",
       "      <td>...</td>\n",
       "      <td>...</td>\n",
       "    </tr>\n",
       "    <tr>\n",
       "      <th>96</th>\n",
       "      <td>22.0</td>\n",
       "      <td>27.0</td>\n",
       "    </tr>\n",
       "    <tr>\n",
       "      <th>97</th>\n",
       "      <td>25.0</td>\n",
       "      <td>21.0</td>\n",
       "    </tr>\n",
       "    <tr>\n",
       "      <th>98</th>\n",
       "      <td>19.0</td>\n",
       "      <td>21.0</td>\n",
       "    </tr>\n",
       "    <tr>\n",
       "      <th>99</th>\n",
       "      <td>20.0</td>\n",
       "      <td>26.0</td>\n",
       "    </tr>\n",
       "    <tr>\n",
       "      <th>100</th>\n",
       "      <td>18.0</td>\n",
       "      <td>18.0</td>\n",
       "    </tr>\n",
       "  </tbody>\n",
       "</table>\n",
       "<p>101 rows × 2 columns</p>\n",
       "</div>"
      ],
      "text/plain": [
       "        0     1\n",
       "0    35.0  35.0\n",
       "1    41.0  49.0\n",
       "2    35.0  17.0\n",
       "3    55.0  45.0\n",
       "4    55.0  20.0\n",
       "..    ...   ...\n",
       "96   22.0  27.0\n",
       "97   25.0  21.0\n",
       "98   19.0  21.0\n",
       "99   20.0  26.0\n",
       "100  18.0  18.0\n",
       "\n",
       "[101 rows x 2 columns]"
      ]
     },
     "execution_count": 11,
     "metadata": {},
     "output_type": "execute_result"
    }
   ],
   "source": [
    "points = pd.DataFrame(l1)\n",
    "points"
   ]
  },
  {
   "cell_type": "code",
   "execution_count": 12,
   "id": "6d08eb27",
   "metadata": {},
   "outputs": [],
   "source": [
    "points.to_csv('points.csv')"
   ]
  },
  {
   "cell_type": "code",
   "execution_count": 13,
   "id": "67122ba0",
   "metadata": {},
   "outputs": [
    {
     "data": {
      "text/plain": [
       "101"
      ]
     },
     "execution_count": 13,
     "metadata": {},
     "output_type": "execute_result"
    }
   ],
   "source": [
    "len(l3[0])"
   ]
  },
  {
   "cell_type": "code",
   "execution_count": 14,
   "id": "21e97ffe",
   "metadata": {},
   "outputs": [
    {
     "data": {
      "text/plain": [
       "(101, 101)"
      ]
     },
     "execution_count": 14,
     "metadata": {},
     "output_type": "execute_result"
    }
   ],
   "source": [
    "import numpy as np\n",
    "np.shape(l3)"
   ]
  },
  {
   "cell_type": "code",
   "execution_count": 15,
   "id": "9376521c",
   "metadata": {},
   "outputs": [
    {
     "name": "stdout",
     "output_type": "stream",
     "text": [
      "[0.0, 20.0, 18.0, 30.0, 35.0, 25.0, 15.0, 30.0, 33.0, 45.0, 30.0, 45.0, 15.0, 15.0, 45.0, 35.0, 40.0, 35.0, 20.0, 45.0, 40.0, 25.0, 35.0, 50.0, 30.0, 45.0, 15.0, 5.0, 8.0, 36.0, 30.0, 21.0, 34.0, 35.0, 50.0, 58.0, 58.0, 30.0, 60.0, 48.0, 15.0, 35.0, 34.0, 44.0, 45.0, 32.0, 46.0, 48.0, 39.0, 62.0, 24.0, 37.0, 16.0, 6.0, 28.0, 40.0, 41.0, 26.0, 10.0, 25.0, 19.0, 34.0, 34.0, 42.0, 62.0, 69.0, 52.0, 62.0, 25.0, 14.0, 23.0, 55.0, 31.0, 27.0, 33.0, 38.0, 21.0, 26.0, 43.0, 35.0, 23.0, 39.0, 32.0, 23.0, 28.0, 32.0, 48.0, 24.0, 26.0, 9.0, 36.0, 36.0, 26.0, 28.0, 17.0, 21.0, 21.0, 24.0, 30.0, 24.0, 34.0]\n"
     ]
    }
   ],
   "source": [
    "print(l3[0])"
   ]
  },
  {
   "cell_type": "code",
   "execution_count": 16,
   "id": "5323d29b",
   "metadata": {},
   "outputs": [
    {
     "name": "stdout",
     "output_type": "stream",
     "text": [
      "[20.0, 0.0, 38.0, 18.0, 43.0, 45.0, 35.0, 22.0, 37.0, 25.0, 22.0, 37.0, 23.0, 35.0, 65.0, 55.0, 60.0, 55.0, 30.0, 37.0, 20.0, 33.0, 43.0, 58.0, 38.0, 53.0, 23.0, 15.0, 12.0, 30.0, 12.0, 13.0, 26.0, 15.0, 30.0, 38.0, 50.0, 50.0, 80.0, 56.0, 25.0, 43.0, 54.0, 64.0, 65.0, 46.0, 40.0, 40.0, 31.0, 54.0, 8.0, 17.0, 20.0, 22.0, 36.0, 48.0, 49.0, 46.0, 28.0, 45.0, 39.0, 54.0, 26.0, 34.0, 54.0, 49.0, 32.0, 70.0, 25.0, 6.0, 11.0, 35.0, 39.0, 35.0, 41.0, 46.0, 15.0, 18.0, 23.0, 17.0, 27.0, 19.0, 28.0, 39.0, 48.0, 52.0, 68.0, 44.0, 18.0, 29.0, 28.0, 56.0, 46.0, 48.0, 37.0, 41.0, 41.0, 44.0, 50.0, 44.0, 54.0]\n"
     ]
    }
   ],
   "source": [
    "print(l3[1])"
   ]
  },
  {
   "cell_type": "code",
   "execution_count": 17,
   "id": "fb422734",
   "metadata": {},
   "outputs": [
    {
     "name": "stdout",
     "output_type": "stream",
     "text": [
      "[18.0, 38.0, 0.0, 48.0, 23.0, 33.0, 23.0, 48.0, 51.0, 63.0, 48.0, 63.0, 33.0, 13.0, 27.0, 17.0, 28.0, 43.0, 38.0, 63.0, 58.0, 13.0, 17.0, 32.0, 48.0, 33.0, 23.0, 23.0, 26.0, 54.0, 48.0, 39.0, 52.0, 53.0, 68.0, 76.0, 76.0, 18.0, 42.0, 30.0, 13.0, 17.0, 16.0, 26.0, 27.0, 50.0, 64.0, 66.0, 57.0, 80.0, 42.0, 55.0, 34.0, 16.0, 34.0, 34.0, 23.0, 8.0, 10.0, 21.0, 35.0, 30.0, 52.0, 60.0, 80.0, 87.0, 70.0, 44.0, 43.0, 32.0, 41.0, 73.0, 13.0, 9.0, 15.0, 20.0, 39.0, 44.0, 61.0, 53.0, 41.0, 57.0, 50.0, 41.0, 38.0, 24.0, 32.0, 8.0, 44.0, 27.0, 54.0, 22.0, 18.0, 24.0, 19.0, 17.0, 23.0, 14.0, 20.0, 24.0, 18.0]\n"
     ]
    }
   ],
   "source": [
    "print(l3[2])"
   ]
  },
  {
   "cell_type": "code",
   "execution_count": null,
   "id": "34c7ae0a",
   "metadata": {},
   "outputs": [],
   "source": []
  },
  {
   "cell_type": "code",
   "execution_count": 19,
   "id": "3df34666",
   "metadata": {},
   "outputs": [
    {
     "ename": "AttributeError",
     "evalue": "'list' object has no attribute 'to_csv'",
     "output_type": "error",
     "traceback": [
      "\u001b[1;31m---------------------------------------------------------------------------\u001b[0m",
      "\u001b[1;31mAttributeError\u001b[0m                            Traceback (most recent call last)",
      "\u001b[1;32m~\\AppData\\Local\\Temp/ipykernel_3544/3122116857.py\u001b[0m in \u001b[0;36m<module>\u001b[1;34m\u001b[0m\n\u001b[1;32m----> 1\u001b[1;33m \u001b[0ml3\u001b[0m\u001b[1;33m.\u001b[0m\u001b[0mto_csv\u001b[0m\u001b[1;33m(\u001b[0m\u001b[1;34m'time_mat.csv'\u001b[0m\u001b[1;33m)\u001b[0m\u001b[1;33m\u001b[0m\u001b[1;33m\u001b[0m\u001b[0m\n\u001b[0m",
      "\u001b[1;31mAttributeError\u001b[0m: 'list' object has no attribute 'to_csv'"
     ]
    }
   ],
   "source": [
    "l3.to_csv('time_mat.csv')"
   ]
  },
  {
   "cell_type": "code",
   "execution_count": 73,
   "id": "24b98afb",
   "metadata": {},
   "outputs": [],
   "source": [
    "import xlwt\n",
    "workbook = xlwt.Workbook()\n",
    "sheet = workbook.add_sheet(\"Sheet\")\n",
    "\n",
    "for i in range(len(l3)):\n",
    "    for j in range(len(l3[i])):\n",
    "        sheet.write(i, j, l3[i][j])\n",
    "\n",
    "workbook.save(\"test.xls\")"
   ]
  },
  {
   "cell_type": "code",
   "execution_count": null,
   "id": "fee97679",
   "metadata": {},
   "outputs": [],
   "source": []
  }
 ],
 "metadata": {
  "kernelspec": {
   "display_name": "Python 3 (ipykernel)",
   "language": "python",
   "name": "python3"
  },
  "language_info": {
   "codemirror_mode": {
    "name": "ipython",
    "version": 3
   },
   "file_extension": ".py",
   "mimetype": "text/x-python",
   "name": "python",
   "nbconvert_exporter": "python",
   "pygments_lexer": "ipython3",
   "version": "3.8.8"
  }
 },
 "nbformat": 4,
 "nbformat_minor": 5
}
