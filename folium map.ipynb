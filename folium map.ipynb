{
 "cells": [
  {
   "cell_type": "code",
   "execution_count": 1,
   "id": "f16c00d2",
   "metadata": {},
   "outputs": [],
   "source": [
    "import requests\n",
    "from pprint import pprint\n"
   ]
  },
  {
   "cell_type": "code",
   "execution_count": 2,
   "id": "3303a131",
   "metadata": {},
   "outputs": [],
   "source": [
    "BASE_URL = 'https://nominatim.openstreetmap.org/search?format=json'"
   ]
  },
  {
   "cell_type": "code",
   "execution_count": 3,
   "id": "85ae58b7",
   "metadata": {},
   "outputs": [
    {
     "name": "stdout",
     "output_type": "stream",
     "text": [
      "[{'boundingbox': ['28.415117003846',\n",
      "                  '28.735117003846',\n",
      "                  '77.036054306452',\n",
      "                  '77.356054306452'],\n",
      "  'class': 'place',\n",
      "  'display_name': 'Sarojini Nagar, Vasant Vihar Tehsil, New Delhi, Delhi, '\n",
      "                  '110023, India',\n",
      "  'importance': 0.445,\n",
      "  'lat': '28.575117003846156',\n",
      "  'licence': 'Data © OpenStreetMap contributors, ODbL 1.0. '\n",
      "             'https://osm.org/copyright',\n",
      "  'lon': '77.19605430645223',\n",
      "  'place_id': 288267860,\n",
      "  'type': 'postcode'}]\n"
     ]
    }
   ],
   "source": [
    "postcode = '110023'\n",
    "response = requests.get(f\"{BASE_URL}&postalcode={postcode}&country=India\")\n",
    "data = response.json()\n",
    "pprint(data)"
   ]
  },
  {
   "cell_type": "code",
   "execution_count": 4,
   "id": "221d895a",
   "metadata": {},
   "outputs": [
    {
     "name": "stdout",
     "output_type": "stream",
     "text": [
      "28.575117003846156 77.19605430645223\n",
      "['28.415117003846', '28.735117003846', '77.036054306452', '77.356054306452']\n"
     ]
    }
   ],
   "source": [
    "latitude = data[0].get('lat')\n",
    "longitude = data[0].get('lon')\n",
    "print(latitude, longitude)\n",
    "bbox = data[0].get('boundingbox')\n",
    "print(bbox)"
   ]
  },
  {
   "cell_type": "code",
   "execution_count": 5,
   "id": "78013c96",
   "metadata": {},
   "outputs": [
    {
     "name": "stdout",
     "output_type": "stream",
     "text": [
      "[{'boundingbox': ['28.409225495833',\n",
      "                  '28.729225495833',\n",
      "                  '77.012689322048',\n",
      "                  '77.332689322048'],\n",
      "  'class': 'place',\n",
      "  'display_name': 'Ramakrishna Puram, Vasant Vihar Tehsil, New Delhi, Delhi, '\n",
      "                  '110022, India',\n",
      "  'importance': 0.445,\n",
      "  'lat': '28.569225495833336',\n",
      "  'licence': 'Data © OpenStreetMap contributors, ODbL 1.0. '\n",
      "             'https://osm.org/copyright',\n",
      "  'lon': '77.17268932204829',\n",
      "  'place_id': 288267859,\n",
      "  'type': 'postcode'}]\n"
     ]
    }
   ],
   "source": [
    "postcode = '110022'\n",
    "response = requests.get(f\"{BASE_URL}&postalcode={postcode}&country=India\")\n",
    "data = response.json()\n",
    "pprint(data)"
   ]
  },
  {
   "cell_type": "code",
   "execution_count": 6,
   "id": "58cb545a",
   "metadata": {},
   "outputs": [
    {
     "name": "stdout",
     "output_type": "stream",
     "text": [
      "28.569225495833336 77.17268932204829\n",
      "['28.409225495833', '28.729225495833', '77.012689322048', '77.332689322048']\n"
     ]
    }
   ],
   "source": [
    "latitude2 = data[0].get('lat')\n",
    "longitude2 = data[0].get('lon')\n",
    "print(latitude2, longitude2)\n",
    "bbox = data[0].get('boundingbox')\n",
    "print(bbox)"
   ]
  },
  {
   "cell_type": "code",
   "execution_count": 7,
   "id": "f33494d3",
   "metadata": {},
   "outputs": [
    {
     "data": {
      "text/html": [
       "<div style=\"width:100%;\"><div style=\"position:relative;width:100%;height:0;padding-bottom:60%;\"><span style=\"color:#565656\">Make this Notebook Trusted to load map: File -> Trust Notebook</span><iframe srcdoc=\"&lt;!DOCTYPE html&gt;\n",
       "&lt;head&gt;    \n",
       "    &lt;meta http-equiv=&quot;content-type&quot; content=&quot;text/html; charset=UTF-8&quot; /&gt;\n",
       "    \n",
       "        &lt;script&gt;\n",
       "            L_NO_TOUCH = false;\n",
       "            L_DISABLE_3D = false;\n",
       "        &lt;/script&gt;\n",
       "    \n",
       "    &lt;style&gt;html, body {width: 100%;height: 100%;margin: 0;padding: 0;}&lt;/style&gt;\n",
       "    &lt;style&gt;#map {position:absolute;top:0;bottom:0;right:0;left:0;}&lt;/style&gt;\n",
       "    &lt;script src=&quot;https://cdn.jsdelivr.net/npm/leaflet@1.6.0/dist/leaflet.js&quot;&gt;&lt;/script&gt;\n",
       "    &lt;script src=&quot;https://code.jquery.com/jquery-1.12.4.min.js&quot;&gt;&lt;/script&gt;\n",
       "    &lt;script src=&quot;https://maxcdn.bootstrapcdn.com/bootstrap/3.2.0/js/bootstrap.min.js&quot;&gt;&lt;/script&gt;\n",
       "    &lt;script src=&quot;https://cdnjs.cloudflare.com/ajax/libs/Leaflet.awesome-markers/2.0.2/leaflet.awesome-markers.js&quot;&gt;&lt;/script&gt;\n",
       "    &lt;link rel=&quot;stylesheet&quot; href=&quot;https://cdn.jsdelivr.net/npm/leaflet@1.6.0/dist/leaflet.css&quot;/&gt;\n",
       "    &lt;link rel=&quot;stylesheet&quot; href=&quot;https://maxcdn.bootstrapcdn.com/bootstrap/3.2.0/css/bootstrap.min.css&quot;/&gt;\n",
       "    &lt;link rel=&quot;stylesheet&quot; href=&quot;https://maxcdn.bootstrapcdn.com/bootstrap/3.2.0/css/bootstrap-theme.min.css&quot;/&gt;\n",
       "    &lt;link rel=&quot;stylesheet&quot; href=&quot;https://maxcdn.bootstrapcdn.com/font-awesome/4.6.3/css/font-awesome.min.css&quot;/&gt;\n",
       "    &lt;link rel=&quot;stylesheet&quot; href=&quot;https://cdnjs.cloudflare.com/ajax/libs/Leaflet.awesome-markers/2.0.2/leaflet.awesome-markers.css&quot;/&gt;\n",
       "    &lt;link rel=&quot;stylesheet&quot; href=&quot;https://cdn.jsdelivr.net/gh/python-visualization/folium/folium/templates/leaflet.awesome.rotate.min.css&quot;/&gt;\n",
       "    \n",
       "            &lt;meta name=&quot;viewport&quot; content=&quot;width=device-width,\n",
       "                initial-scale=1.0, maximum-scale=1.0, user-scalable=no&quot; /&gt;\n",
       "            &lt;style&gt;\n",
       "                #map_1e55007ac77028c6c3afc4ad0bbab244 {\n",
       "                    position: relative;\n",
       "                    width: 800.0px;\n",
       "                    height: 400.0px;\n",
       "                    left: 0.0%;\n",
       "                    top: 0.0%;\n",
       "                }\n",
       "            &lt;/style&gt;\n",
       "        \n",
       "&lt;/head&gt;\n",
       "&lt;body&gt;    \n",
       "    \n",
       "            &lt;div class=&quot;folium-map&quot; id=&quot;map_1e55007ac77028c6c3afc4ad0bbab244&quot; &gt;&lt;/div&gt;\n",
       "        \n",
       "&lt;/body&gt;\n",
       "&lt;script&gt;    \n",
       "    \n",
       "            var map_1e55007ac77028c6c3afc4ad0bbab244 = L.map(\n",
       "                &quot;map_1e55007ac77028c6c3afc4ad0bbab244&quot;,\n",
       "                {\n",
       "                    center: [28.574, 77.1991],\n",
       "                    crs: L.CRS.EPSG3857,\n",
       "                    zoom: 4,\n",
       "                    zoomControl: true,\n",
       "                    preferCanvas: false,\n",
       "                }\n",
       "            );\n",
       "\n",
       "            \n",
       "\n",
       "        \n",
       "    \n",
       "            var tile_layer_749836caac8cf609161bdc23cacd1de1 = L.tileLayer(\n",
       "                &quot;https://{s}.tile.openstreetmap.org/{z}/{x}/{y}.png&quot;,\n",
       "                {&quot;attribution&quot;: &quot;Data by \\u0026copy; \\u003ca href=\\&quot;http://openstreetmap.org\\&quot;\\u003eOpenStreetMap\\u003c/a\\u003e, under \\u003ca href=\\&quot;http://www.openstreetmap.org/copyright\\&quot;\\u003eODbL\\u003c/a\\u003e.&quot;, &quot;detectRetina&quot;: false, &quot;maxNativeZoom&quot;: 18, &quot;maxZoom&quot;: 18, &quot;minZoom&quot;: 0, &quot;noWrap&quot;: false, &quot;opacity&quot;: 1, &quot;subdomains&quot;: &quot;abc&quot;, &quot;tms&quot;: false}\n",
       "            ).addTo(map_1e55007ac77028c6c3afc4ad0bbab244);\n",
       "        \n",
       "    \n",
       "            var marker_93901d55eaa0c9106980bcd3437b4089 = L.marker(\n",
       "                [28.575117003846156, 77.19605430645223],\n",
       "                {}\n",
       "            ).addTo(map_1e55007ac77028c6c3afc4ad0bbab244);\n",
       "        \n",
       "    \n",
       "        var popup_37f0ab5bc10417a483848291c6f08e81 = L.popup({&quot;maxWidth&quot;: &quot;100%&quot;});\n",
       "\n",
       "        \n",
       "            var html_dae72a4d61d3d49134abd0a694c7002e = $(`&lt;div id=&quot;html_dae72a4d61d3d49134abd0a694c7002e&quot; style=&quot;width: 100.0%; height: 100.0%;&quot;&gt;Sarojini Nagar&lt;/div&gt;`)[0];\n",
       "            popup_37f0ab5bc10417a483848291c6f08e81.setContent(html_dae72a4d61d3d49134abd0a694c7002e);\n",
       "        \n",
       "\n",
       "        marker_93901d55eaa0c9106980bcd3437b4089.bindPopup(popup_37f0ab5bc10417a483848291c6f08e81)\n",
       "        ;\n",
       "\n",
       "        \n",
       "    \n",
       "    \n",
       "            var marker_92f2a3d70ec0a4df36ed5a923c20be03 = L.marker(\n",
       "                [28.569225495833336, 77.17268932204829],\n",
       "                {}\n",
       "            ).addTo(map_1e55007ac77028c6c3afc4ad0bbab244);\n",
       "        \n",
       "    \n",
       "        var popup_6528c8be48daf5f28af46cf5993436bd = L.popup({&quot;maxWidth&quot;: &quot;100%&quot;});\n",
       "\n",
       "        \n",
       "            var html_38f23744bbb90dc3e21cc2ab5ea2aac5 = $(`&lt;div id=&quot;html_38f23744bbb90dc3e21cc2ab5ea2aac5&quot; style=&quot;width: 100.0%; height: 100.0%;&quot;&gt;ModelTown&lt;/div&gt;`)[0];\n",
       "            popup_6528c8be48daf5f28af46cf5993436bd.setContent(html_38f23744bbb90dc3e21cc2ab5ea2aac5);\n",
       "        \n",
       "\n",
       "        marker_92f2a3d70ec0a4df36ed5a923c20be03.bindPopup(popup_6528c8be48daf5f28af46cf5993436bd)\n",
       "        ;\n",
       "\n",
       "        \n",
       "    \n",
       "&lt;/script&gt;\" style=\"position:absolute;width:100%;height:100%;left:0;top:0;border:none !important;\" allowfullscreen webkitallowfullscreen mozallowfullscreen></iframe></div></div>"
      ],
      "text/plain": [
       "<folium.folium.Map at 0x29bdf1c5070>"
      ]
     },
     "execution_count": 7,
     "metadata": {},
     "output_type": "execute_result"
    }
   ],
   "source": [
    "# !pip install folium\n",
    "import folium\n",
    "\n",
    "# create tuples representing our location\n",
    "location = float(latitude), float(longitude)\n",
    "location2 = float(latitude2), float(longitude2)\n",
    "\n",
    "# center the map at Amsterdam\n",
    "sn = (28.5740, 77.1991)\n",
    "\n",
    "# create a Folium map centred at the above location\n",
    "m = folium.Map(location=sn, zoom_start=4, width=800, height=400)\n",
    "\n",
    "# add markers at the locations\n",
    "folium.Marker(location, popup=\"Sarojini Nagar\").add_to(m)\n",
    "folium.Marker(location2, popup=\"ModelTown\").add_to(m)\n",
    "\n",
    "# refer to the map to display it in Jupyter/Colab notebooks\n",
    "m"
   ]
  },
  {
   "cell_type": "code",
   "execution_count": 8,
   "id": "b6db2d0d",
   "metadata": {
    "scrolled": true
   },
   "outputs": [
    {
     "name": "stdout",
     "output_type": "stream",
     "text": [
      "Distance between postcodes:\n",
      "2.3773935148158487 km\n",
      "1.4772438427184298 miles\n"
     ]
    }
   ],
   "source": [
    "# !pip install geopy\n",
    "from geopy.distance import distance\n",
    "km = distance(location, location2)\n",
    "miles = distance(location, location2).miles\n",
    "\n",
    "print(\"Distance between postcodes:\")\n",
    "print(f\"{km}\")\n",
    "print(f\"{miles} miles\")"
   ]
  },
  {
   "cell_type": "code",
   "execution_count": 9,
   "id": "d242b988",
   "metadata": {},
   "outputs": [
    {
     "name": "stdout",
     "output_type": "stream",
     "text": [
      "(28.575117003846156, 77.19605430645223)\n",
      "(28.569225495833336, 77.17268932204829)\n",
      "(28.572171249839748, 77.18437181425026)\n"
     ]
    }
   ],
   "source": [
    "# generator expression to compute midpoint of the two locations\n",
    "# this works because both locations are of form: (lat, long)\n",
    "# zipping them together allows us to iterate over both lats at once, \n",
    "# and then both lons at once\n",
    "midpoint_gen = ((x+y)/2 for x,y in zip(location, location2))\n",
    "\n",
    "# convert generator to a tuple representing lat/longitude of the midpoint\n",
    "midpoint = tuple(midpoint_gen)\n",
    "\n",
    "print(location)\n",
    "print(location2)\n",
    "print(midpoint)"
   ]
  },
  {
   "cell_type": "code",
   "execution_count": 10,
   "id": "74d1712b",
   "metadata": {},
   "outputs": [
    {
     "data": {
      "text/html": [
       "<div style=\"width:100%;\"><div style=\"position:relative;width:100%;height:0;padding-bottom:60%;\"><span style=\"color:#565656\">Make this Notebook Trusted to load map: File -> Trust Notebook</span><iframe srcdoc=\"&lt;!DOCTYPE html&gt;\n",
       "&lt;head&gt;    \n",
       "    &lt;meta http-equiv=&quot;content-type&quot; content=&quot;text/html; charset=UTF-8&quot; /&gt;\n",
       "    \n",
       "        &lt;script&gt;\n",
       "            L_NO_TOUCH = false;\n",
       "            L_DISABLE_3D = false;\n",
       "        &lt;/script&gt;\n",
       "    \n",
       "    &lt;style&gt;html, body {width: 100%;height: 100%;margin: 0;padding: 0;}&lt;/style&gt;\n",
       "    &lt;style&gt;#map {position:absolute;top:0;bottom:0;right:0;left:0;}&lt;/style&gt;\n",
       "    &lt;script src=&quot;https://cdn.jsdelivr.net/npm/leaflet@1.6.0/dist/leaflet.js&quot;&gt;&lt;/script&gt;\n",
       "    &lt;script src=&quot;https://code.jquery.com/jquery-1.12.4.min.js&quot;&gt;&lt;/script&gt;\n",
       "    &lt;script src=&quot;https://maxcdn.bootstrapcdn.com/bootstrap/3.2.0/js/bootstrap.min.js&quot;&gt;&lt;/script&gt;\n",
       "    &lt;script src=&quot;https://cdnjs.cloudflare.com/ajax/libs/Leaflet.awesome-markers/2.0.2/leaflet.awesome-markers.js&quot;&gt;&lt;/script&gt;\n",
       "    &lt;link rel=&quot;stylesheet&quot; href=&quot;https://cdn.jsdelivr.net/npm/leaflet@1.6.0/dist/leaflet.css&quot;/&gt;\n",
       "    &lt;link rel=&quot;stylesheet&quot; href=&quot;https://maxcdn.bootstrapcdn.com/bootstrap/3.2.0/css/bootstrap.min.css&quot;/&gt;\n",
       "    &lt;link rel=&quot;stylesheet&quot; href=&quot;https://maxcdn.bootstrapcdn.com/bootstrap/3.2.0/css/bootstrap-theme.min.css&quot;/&gt;\n",
       "    &lt;link rel=&quot;stylesheet&quot; href=&quot;https://maxcdn.bootstrapcdn.com/font-awesome/4.6.3/css/font-awesome.min.css&quot;/&gt;\n",
       "    &lt;link rel=&quot;stylesheet&quot; href=&quot;https://cdnjs.cloudflare.com/ajax/libs/Leaflet.awesome-markers/2.0.2/leaflet.awesome-markers.css&quot;/&gt;\n",
       "    &lt;link rel=&quot;stylesheet&quot; href=&quot;https://cdn.jsdelivr.net/gh/python-visualization/folium/folium/templates/leaflet.awesome.rotate.min.css&quot;/&gt;\n",
       "    \n",
       "            &lt;meta name=&quot;viewport&quot; content=&quot;width=device-width,\n",
       "                initial-scale=1.0, maximum-scale=1.0, user-scalable=no&quot; /&gt;\n",
       "            &lt;style&gt;\n",
       "                #map_8920f3e9a1a6cc64b3f11d1956368e82 {\n",
       "                    position: relative;\n",
       "                    width: 800.0px;\n",
       "                    height: 400.0px;\n",
       "                    left: 0.0%;\n",
       "                    top: 0.0%;\n",
       "                }\n",
       "            &lt;/style&gt;\n",
       "        \n",
       "&lt;/head&gt;\n",
       "&lt;body&gt;    \n",
       "    \n",
       "            &lt;div class=&quot;folium-map&quot; id=&quot;map_8920f3e9a1a6cc64b3f11d1956368e82&quot; &gt;&lt;/div&gt;\n",
       "        \n",
       "&lt;/body&gt;\n",
       "&lt;script&gt;    \n",
       "    \n",
       "            var map_8920f3e9a1a6cc64b3f11d1956368e82 = L.map(\n",
       "                &quot;map_8920f3e9a1a6cc64b3f11d1956368e82&quot;,\n",
       "                {\n",
       "                    center: [28.572171249839748, 77.18437181425026],\n",
       "                    crs: L.CRS.EPSG3857,\n",
       "                    zoom: 4,\n",
       "                    zoomControl: true,\n",
       "                    preferCanvas: false,\n",
       "                }\n",
       "            );\n",
       "\n",
       "            \n",
       "\n",
       "        \n",
       "    \n",
       "            var tile_layer_7430a70f279a196c1055528b4c813b69 = L.tileLayer(\n",
       "                &quot;https://{s}.tile.openstreetmap.org/{z}/{x}/{y}.png&quot;,\n",
       "                {&quot;attribution&quot;: &quot;Data by \\u0026copy; \\u003ca href=\\&quot;http://openstreetmap.org\\&quot;\\u003eOpenStreetMap\\u003c/a\\u003e, under \\u003ca href=\\&quot;http://www.openstreetmap.org/copyright\\&quot;\\u003eODbL\\u003c/a\\u003e.&quot;, &quot;detectRetina&quot;: false, &quot;maxNativeZoom&quot;: 18, &quot;maxZoom&quot;: 18, &quot;minZoom&quot;: 0, &quot;noWrap&quot;: false, &quot;opacity&quot;: 1, &quot;subdomains&quot;: &quot;abc&quot;, &quot;tms&quot;: false}\n",
       "            ).addTo(map_8920f3e9a1a6cc64b3f11d1956368e82);\n",
       "        \n",
       "    \n",
       "            var marker_15e3c1977516630c60dd924e1e36670f = L.marker(\n",
       "                [28.575117003846156, 77.19605430645223],\n",
       "                {}\n",
       "            ).addTo(map_8920f3e9a1a6cc64b3f11d1956368e82);\n",
       "        \n",
       "    \n",
       "        var popup_d34526e9b61fad1148bfe858f74c9950 = L.popup({&quot;maxWidth&quot;: &quot;100%&quot;});\n",
       "\n",
       "        \n",
       "            var html_64a69b906f10b4824a38d0a24feb4914 = $(`&lt;div id=&quot;html_64a69b906f10b4824a38d0a24feb4914&quot; style=&quot;width: 100.0%; height: 100.0%;&quot;&gt;Sarojini Nagar&lt;/div&gt;`)[0];\n",
       "            popup_d34526e9b61fad1148bfe858f74c9950.setContent(html_64a69b906f10b4824a38d0a24feb4914);\n",
       "        \n",
       "\n",
       "        marker_15e3c1977516630c60dd924e1e36670f.bindPopup(popup_d34526e9b61fad1148bfe858f74c9950)\n",
       "        ;\n",
       "\n",
       "        \n",
       "    \n",
       "    \n",
       "            var marker_aa83b1ef71a60cabbf53f5faccbc96e9 = L.marker(\n",
       "                [28.569225495833336, 77.17268932204829],\n",
       "                {}\n",
       "            ).addTo(map_8920f3e9a1a6cc64b3f11d1956368e82);\n",
       "        \n",
       "    \n",
       "        var popup_8ea35b1a29f7f115b965a4c5748617ae = L.popup({&quot;maxWidth&quot;: &quot;100%&quot;});\n",
       "\n",
       "        \n",
       "            var html_8baf046c890a8bb856dd9dd821ff6a39 = $(`&lt;div id=&quot;html_8baf046c890a8bb856dd9dd821ff6a39&quot; style=&quot;width: 100.0%; height: 100.0%;&quot;&gt;Model Town&lt;/div&gt;`)[0];\n",
       "            popup_8ea35b1a29f7f115b965a4c5748617ae.setContent(html_8baf046c890a8bb856dd9dd821ff6a39);\n",
       "        \n",
       "\n",
       "        marker_aa83b1ef71a60cabbf53f5faccbc96e9.bindPopup(popup_8ea35b1a29f7f115b965a4c5748617ae)\n",
       "        ;\n",
       "\n",
       "        \n",
       "    \n",
       "    \n",
       "            var poly_line_b685616a57b3ad2b1c01250552c2dfab = L.polyline(\n",
       "                [[28.575117003846156, 77.19605430645223], [28.569225495833336, 77.17268932204829]],\n",
       "                {&quot;bubblingMouseEvents&quot;: true, &quot;color&quot;: &quot;#3388ff&quot;, &quot;dashArray&quot;: null, &quot;dashOffset&quot;: null, &quot;fill&quot;: false, &quot;fillColor&quot;: &quot;#3388ff&quot;, &quot;fillOpacity&quot;: 0.2, &quot;fillRule&quot;: &quot;evenodd&quot;, &quot;lineCap&quot;: &quot;round&quot;, &quot;lineJoin&quot;: &quot;round&quot;, &quot;noClip&quot;: false, &quot;opacity&quot;: 1.0, &quot;smoothFactor&quot;: 1.0, &quot;stroke&quot;: true, &quot;weight&quot;: 3}\n",
       "            ).addTo(map_8920f3e9a1a6cc64b3f11d1956368e82);\n",
       "        \n",
       "&lt;/script&gt;\" style=\"position:absolute;width:100%;height:100%;left:0;top:0;border:none !important;\" allowfullscreen webkitallowfullscreen mozallowfullscreen></iframe></div></div>"
      ],
      "text/plain": [
       "<folium.folium.Map at 0x29bddee0580>"
      ]
     },
     "execution_count": 10,
     "metadata": {},
     "output_type": "execute_result"
    }
   ],
   "source": [
    "import folium\n",
    "\n",
    "# create a Folium map centred at the above location\n",
    "m = folium.Map(location=midpoint, zoom_start=4, width=800, height=400)\n",
    "\n",
    "# add marker at the locations\n",
    "folium.Marker(location, popup=\"Sarojini Nagar\").add_to(m)\n",
    "folium.Marker(location2, popup=\"Model Town\").add_to(m)\n",
    "\n",
    "# add line between points\n",
    "folium.PolyLine((location,location2)).add_to(m)\n",
    "m"
   ]
  },
  {
   "cell_type": "code",
   "execution_count": null,
   "id": "59690eab",
   "metadata": {},
   "outputs": [],
   "source": []
  }
 ],
 "metadata": {
  "kernelspec": {
   "display_name": "Python 3 (ipykernel)",
   "language": "python",
   "name": "python3"
  },
  "language_info": {
   "codemirror_mode": {
    "name": "ipython",
    "version": 3
   },
   "file_extension": ".py",
   "mimetype": "text/x-python",
   "name": "python",
   "nbconvert_exporter": "python",
   "pygments_lexer": "ipython3",
   "version": "3.8.8"
  }
 },
 "nbformat": 4,
 "nbformat_minor": 5
}
